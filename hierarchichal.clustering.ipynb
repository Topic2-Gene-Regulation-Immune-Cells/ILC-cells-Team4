{
 "cells": [
  {
   "cell_type": "code",
   "execution_count": 10,
   "id": "c2ccc2c2",
   "metadata": {},
   "outputs": [
    {
     "ename": "ValueError",
     "evalue": "could not convert string to float: 'CellType'",
     "output_type": "error",
     "traceback": [
      "\u001b[31m---------------------------------------------------------------------------\u001b[39m",
      "\u001b[31mValueError\u001b[39m                                Traceback (most recent call last)",
      "\u001b[32m~\\AppData\\Local\\Temp\\ipykernel_22860\\2770024448.py\u001b[39m in \u001b[36m?\u001b[39m\u001b[34m()\u001b[39m\n\u001b[32m     37\u001b[39m \u001b[38;5;66;03m#tsne_result = tsne.fit_transform(df_pca)\u001b[39;00m\n\u001b[32m     38\u001b[39m \n\u001b[32m     39\u001b[39m \u001b[38;5;66;03m# 6. Clustering (hier hierarchisch)\u001b[39;00m\n\u001b[32m     40\u001b[39m clustering = AgglomerativeClustering(n_clusters=\u001b[32m10\u001b[39m)  \u001b[38;5;66;03m# Anzahl Cluster anpassen\u001b[39;00m\n\u001b[32m---> \u001b[39m\u001b[32m41\u001b[39m df_pca[\u001b[33m\"Cluster\"\u001b[39m] = clustering.fit_predict(df_pca)\n\u001b[32m     42\u001b[39m \n\u001b[32m     43\u001b[39m \u001b[38;5;66;03m# 7. Visualisierung\u001b[39;00m\n\u001b[32m     44\u001b[39m plt.figure(figsize=(\u001b[32m10\u001b[39m, \u001b[32m7\u001b[39m))\n",
      "\u001b[32mc:\\Users\\janna\\miniconda3\\envs\\data_analysis\\Lib\\site-packages\\sklearn\\cluster\\_agglomerative.py\u001b[39m in \u001b[36m?\u001b[39m\u001b[34m(self, X, y)\u001b[39m\n\u001b[32m   1125\u001b[39m         -------\n\u001b[32m   1126\u001b[39m         labels : ndarray of shape (n_samples,)\n\u001b[32m   1127\u001b[39m             Cluster labels.\n\u001b[32m   1128\u001b[39m         \"\"\"\n\u001b[32m-> \u001b[39m\u001b[32m1129\u001b[39m         \u001b[38;5;28;01mreturn\u001b[39;00m super().fit_predict(X, y)\n",
      "\u001b[32mc:\\Users\\janna\\miniconda3\\envs\\data_analysis\\Lib\\site-packages\\sklearn\\base.py\u001b[39m in \u001b[36m?\u001b[39m\u001b[34m(self, X, y, **kwargs)\u001b[39m\n\u001b[32m    896\u001b[39m             Cluster labels.\n\u001b[32m    897\u001b[39m         \"\"\"\n\u001b[32m    898\u001b[39m         \u001b[38;5;66;03m# non-optimized default implementation; override when a better\u001b[39;00m\n\u001b[32m    899\u001b[39m         \u001b[38;5;66;03m# method is possible for a given clustering algorithm\u001b[39;00m\n\u001b[32m--> \u001b[39m\u001b[32m900\u001b[39m         self.fit(X, **kwargs)\n\u001b[32m    901\u001b[39m         \u001b[38;5;28;01mreturn\u001b[39;00m self.labels_\n",
      "\u001b[32mc:\\Users\\janna\\miniconda3\\envs\\data_analysis\\Lib\\site-packages\\sklearn\\base.py\u001b[39m in \u001b[36m?\u001b[39m\u001b[34m(estimator, *args, **kwargs)\u001b[39m\n\u001b[32m   1469\u001b[39m                 skip_parameter_validation=(\n\u001b[32m   1470\u001b[39m                     prefer_skip_nested_validation \u001b[38;5;28;01mor\u001b[39;00m global_skip_validation\n\u001b[32m   1471\u001b[39m                 )\n\u001b[32m   1472\u001b[39m             ):\n\u001b[32m-> \u001b[39m\u001b[32m1473\u001b[39m                 \u001b[38;5;28;01mreturn\u001b[39;00m fit_method(estimator, *args, **kwargs)\n",
      "\u001b[32mc:\\Users\\janna\\miniconda3\\envs\\data_analysis\\Lib\\site-packages\\sklearn\\cluster\\_agglomerative.py\u001b[39m in \u001b[36m?\u001b[39m\u001b[34m(self, X, y)\u001b[39m\n\u001b[32m    985\u001b[39m         -------\n\u001b[32m    986\u001b[39m         self : object\n\u001b[32m    987\u001b[39m             Returns the fitted instance.\n\u001b[32m    988\u001b[39m         \"\"\"\n\u001b[32m--> \u001b[39m\u001b[32m989\u001b[39m         X = self._validate_data(X, ensure_min_samples=\u001b[32m2\u001b[39m)\n\u001b[32m    990\u001b[39m         \u001b[38;5;28;01mreturn\u001b[39;00m self._fit(X)\n",
      "\u001b[32mc:\\Users\\janna\\miniconda3\\envs\\data_analysis\\Lib\\site-packages\\sklearn\\base.py\u001b[39m in \u001b[36m?\u001b[39m\u001b[34m(self, X, y, reset, validate_separately, cast_to_ndarray, **check_params)\u001b[39m\n\u001b[32m    629\u001b[39m                 out = y\n\u001b[32m    630\u001b[39m             \u001b[38;5;28;01melse\u001b[39;00m:\n\u001b[32m    631\u001b[39m                 out = X, y\n\u001b[32m    632\u001b[39m         \u001b[38;5;28;01melif\u001b[39;00m \u001b[38;5;28;01mnot\u001b[39;00m no_val_X \u001b[38;5;28;01mand\u001b[39;00m no_val_y:\n\u001b[32m--> \u001b[39m\u001b[32m633\u001b[39m             out = check_array(X, input_name=\u001b[33m\"X\"\u001b[39m, **check_params)\n\u001b[32m    634\u001b[39m         \u001b[38;5;28;01melif\u001b[39;00m no_val_X \u001b[38;5;28;01mand\u001b[39;00m \u001b[38;5;28;01mnot\u001b[39;00m no_val_y:\n\u001b[32m    635\u001b[39m             out = _check_y(y, **check_params)\n\u001b[32m    636\u001b[39m         \u001b[38;5;28;01melse\u001b[39;00m:\n",
      "\u001b[32mc:\\Users\\janna\\miniconda3\\envs\\data_analysis\\Lib\\site-packages\\sklearn\\utils\\validation.py\u001b[39m in \u001b[36m?\u001b[39m\u001b[34m(array, accept_sparse, accept_large_sparse, dtype, order, copy, force_writeable, force_all_finite, ensure_2d, allow_nd, ensure_min_samples, ensure_min_features, estimator, input_name)\u001b[39m\n\u001b[32m   1009\u001b[39m                         )\n\u001b[32m   1010\u001b[39m                     array = xp.astype(array, dtype, copy=\u001b[38;5;28;01mFalse\u001b[39;00m)\n\u001b[32m   1011\u001b[39m                 \u001b[38;5;28;01melse\u001b[39;00m:\n\u001b[32m   1012\u001b[39m                     array = _asarray_with_order(array, order=order, dtype=dtype, xp=xp)\n\u001b[32m-> \u001b[39m\u001b[32m1013\u001b[39m             \u001b[38;5;28;01mexcept\u001b[39;00m ComplexWarning \u001b[38;5;28;01mas\u001b[39;00m complex_warning:\n\u001b[32m   1014\u001b[39m                 raise ValueError(\n\u001b[32m   1015\u001b[39m                     \u001b[33m\"Complex data not supported\\n{}\\n\"\u001b[39m.format(array)\n\u001b[32m   1016\u001b[39m                 ) \u001b[38;5;28;01mfrom\u001b[39;00m complex_warning\n",
      "\u001b[32mc:\\Users\\janna\\miniconda3\\envs\\data_analysis\\Lib\\site-packages\\sklearn\\utils\\_array_api.py\u001b[39m in \u001b[36m?\u001b[39m\u001b[34m(array, dtype, order, copy, xp, device)\u001b[39m\n\u001b[32m    741\u001b[39m         \u001b[38;5;66;03m# Use NumPy API to support order\u001b[39;00m\n\u001b[32m    742\u001b[39m         \u001b[38;5;28;01mif\u001b[39;00m copy \u001b[38;5;28;01mis\u001b[39;00m \u001b[38;5;28;01mTrue\u001b[39;00m:\n\u001b[32m    743\u001b[39m             array = numpy.array(array, order=order, dtype=dtype)\n\u001b[32m    744\u001b[39m         \u001b[38;5;28;01melse\u001b[39;00m:\n\u001b[32m--> \u001b[39m\u001b[32m745\u001b[39m             array = numpy.asarray(array, order=order, dtype=dtype)\n\u001b[32m    746\u001b[39m \n\u001b[32m    747\u001b[39m         \u001b[38;5;66;03m# At this point array is a NumPy ndarray. We convert it to an array\u001b[39;00m\n\u001b[32m    748\u001b[39m         \u001b[38;5;66;03m# container that is consistent with the input's namespace.\u001b[39;00m\n",
      "\u001b[32mc:\\Users\\janna\\miniconda3\\envs\\data_analysis\\Lib\\site-packages\\pandas\\core\\generic.py\u001b[39m in \u001b[36m?\u001b[39m\u001b[34m(self, dtype, copy)\u001b[39m\n\u001b[32m   2149\u001b[39m     def __array__(\n\u001b[32m   2150\u001b[39m         self, dtype: npt.DTypeLike | \u001b[38;5;28;01mNone\u001b[39;00m = \u001b[38;5;28;01mNone\u001b[39;00m, copy: bool_t | \u001b[38;5;28;01mNone\u001b[39;00m = \u001b[38;5;28;01mNone\u001b[39;00m\n\u001b[32m   2151\u001b[39m     ) -> np.ndarray:\n\u001b[32m   2152\u001b[39m         values = self._values\n\u001b[32m-> \u001b[39m\u001b[32m2153\u001b[39m         arr = np.asarray(values, dtype=dtype)\n\u001b[32m   2154\u001b[39m         if (\n\u001b[32m   2155\u001b[39m             astype_is_view(values.dtype, arr.dtype)\n\u001b[32m   2156\u001b[39m             \u001b[38;5;28;01mand\u001b[39;00m using_copy_on_write()\n",
      "\u001b[31mValueError\u001b[39m: could not convert string to float: 'CellType'"
     ]
    }
   ],
   "source": [
    "import pandas as pd\n",
    "from sklearn.preprocessing import StandardScaler\n",
    "from sklearn.decomposition import PCA\n",
    "from sklearn.cluster import AgglomerativeClustering\n",
    "import matplotlib.pyplot as plt\n",
    "import seaborn as sns\n",
    "import numpy as np\n",
    "from sklearn.manifold import TSNE\n",
    "\n",
    "# 1. Lade den Datensatz und wähle die Zelltypen-Spalten (hier ILC + NK Beispiel)\n",
    "celltype_cols = [\n",
    "    \"ILC2.SI\", \"ILC3.NKp46-CCR6-.SI\", \"ILC3.NKp46+.SI\", \"ILC3.CCR6+.SI\",\n",
    "    \"NK.27+11b-.BM\", \"NK.27+11b+.BM\", \"NK.27-11b+.BM\",\n",
    "    \"NK.27+11b-.Sp\", \"NK.27+11b+.Sp\", \"NK.27-11b+.Sp\"\n",
    "]\n",
    "\n",
    "# 2. Nur die Spalten (Zelltypen) laden\n",
    "data = pd.read_csv(\"data/ImmGenATAC18_AllOCRsInfo.csv\", usecols=celltype_cols, encoding=\"latin1\")\n",
    "\n",
    " \n",
    "data_sampled = data.sample(n=1000, random_state=42)\n",
    "\n",
    "\n",
    "# 3. Transponieren: Zeilen = Zelltypen, Spalten = OCRs\n",
    "df_T = data_sampled.T\n",
    "df_T.index.name = \"CellType\"\n",
    "\n",
    "\n",
    "\n",
    "# 5. PCA zur Reduktion (optional, für Visualisierung nützlich)\n",
    "pca = PCA(n_components=2)\n",
    "pca_result = pca.fit_transform(df_T)\n",
    "df_pca = pd.DataFrame(pca_result, columns=[\"PC1\", \"PC2\"])\n",
    "df_pca[\"CellType\"] = df_T.index.name\n",
    "\n",
    "#tsne = TSNE(n_components=2, perplexity=5, n_iter=500, learning_rate=200, verbose=1)\n",
    "#tsne_result = tsne.fit_transform(df_pca)\n",
    "\n",
    "# 6. Clustering (hier hierarchisch)\n",
    "clustering = AgglomerativeClustering(n_clusters=10)  # Anzahl Cluster anpassen\n",
    "df_pca[\"Cluster\"] = clustering.fit_predict(df_pca)\n",
    "\n",
    "# 7. Visualisierung\n",
    "plt.figure(figsize=(10, 7))\n",
    "sns.scatterplot(data=df_pca, x=\"PC1\", y=\"PC2\", hue=\"CellType\", style=\"Cluster\", palette=\"tab10\", s=100)\n",
    "plt.title(\"Clustering of Cell Types by Chromatin Accessibility\")\n",
    "plt.xlabel(\"Principal Component 1\")\n",
    "plt.ylabel(\"Principal Component 2\")\n",
    "plt.legend(bbox_to_anchor=(1.05, 1), loc='upper left')\n",
    "plt.tight_layout()\n",
    "plt.show()"
   ]
  }
 ],
 "metadata": {
  "kernelspec": {
   "display_name": "data_analysis",
   "language": "python",
   "name": "python3"
  },
  "language_info": {
   "codemirror_mode": {
    "name": "ipython",
    "version": 3
   },
   "file_extension": ".py",
   "mimetype": "text/x-python",
   "name": "python",
   "nbconvert_exporter": "python",
   "pygments_lexer": "ipython3",
   "version": "3.13.3"
  }
 },
 "nbformat": 4,
 "nbformat_minor": 5
}
