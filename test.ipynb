{
 "cells": [
  {
   "cell_type": "code",
   "execution_count": 6,
   "id": "1d8e1778",
   "metadata": {},
   "outputs": [],
   "source": [
    "import pandas as pd\n",
    "import numpy as np\n",
    "\n",
    "import os.path\n",
    "import urllib.request "
   ]
  },
  {
   "cell_type": "code",
   "execution_count": 8,
   "id": "2feccf0e",
   "metadata": {},
   "outputs": [
    {
     "name": "stdout",
     "output_type": "stream",
     "text": [
      "                      chrom   Summit  mm10.60way.phastCons_scores  \\\n",
      "ImmGenATAC1219.peakID                                               \n",
      "ImmGenATAC1219.peak_1  chr1  3020786                         0.00   \n",
      "ImmGenATAC1219.peak_2  chr1  3087226                         0.00   \n",
      "ImmGenATAC1219.peak_3  chr1  3120109                         0.07   \n",
      "ImmGenATAC1219.peak_4  chr1  3121485                         0.15   \n",
      "ImmGenATAC1219.peak_5  chr1  3372787                         0.03   \n",
      "\n",
      "                       _-log10_bestPvalue  Included.in.systematic.analysis  \\\n",
      "ImmGenATAC1219.peakID                                                        \n",
      "ImmGenATAC1219.peak_1                0.56                              NaN   \n",
      "ImmGenATAC1219.peak_2                0.50                              NaN   \n",
      "ImmGenATAC1219.peak_3               10.80                              1.0   \n",
      "ImmGenATAC1219.peak_4                3.02                              1.0   \n",
      "ImmGenATAC1219.peak_5                1.31                              NaN   \n",
      "\n",
      "                       TSS genes.within.100Kb  LTHSC.34-.BM  LTHSC.34+.BM  \\\n",
      "ImmGenATAC1219.peakID                                                       \n",
      "ImmGenATAC1219.peak_1  NaN                NaN          0.41          0.71   \n",
      "ImmGenATAC1219.peak_2  NaN                NaN          0.41          1.64   \n",
      "ImmGenATAC1219.peak_3  NaN                NaN          2.36          0.10   \n",
      "ImmGenATAC1219.peak_4  NaN                NaN          0.41          0.10   \n",
      "ImmGenATAC1219.peak_5  NaN                NaN          0.41          0.10   \n",
      "\n",
      "                       STHSC.150-.BM  ...  DC.4+.Sp  DC.8+.Sp  DC.pDC.Sp  \\\n",
      "ImmGenATAC1219.peakID                 ...                                  \n",
      "ImmGenATAC1219.peak_1           0.90  ...      0.10      0.10       3.19   \n",
      "ImmGenATAC1219.peak_2           0.90  ...      1.70      0.10       1.41   \n",
      "ImmGenATAC1219.peak_3           0.90  ...      0.87      0.54       2.72   \n",
      "ImmGenATAC1219.peak_4           0.11  ...      0.44      1.83       0.66   \n",
      "ImmGenATAC1219.peak_5           0.11  ...      0.44      0.10       0.66   \n",
      "\n",
      "                       DC.103+11b+.SI  DC.103+11b-.SI  FRC.SLN  IAP.SLN  \\\n",
      "ImmGenATAC1219.peakID                                                     \n",
      "ImmGenATAC1219.peak_1            1.37            0.52     1.27     0.10   \n",
      "ImmGenATAC1219.peak_2            0.47            0.11     0.92     0.98   \n",
      "ImmGenATAC1219.peak_3            0.95            0.11    63.38     8.92   \n",
      "ImmGenATAC1219.peak_4            0.11            0.92    13.50     0.98   \n",
      "ImmGenATAC1219.peak_5            1.79            0.51     0.92     0.75   \n",
      "\n",
      "                       BEC.SLN  LEC.SLN  Ep.MEChi.Th  \n",
      "ImmGenATAC1219.peakID                                 \n",
      "ImmGenATAC1219.peak_1     0.57     3.27         1.41  \n",
      "ImmGenATAC1219.peak_2     2.16     2.34         0.94  \n",
      "ImmGenATAC1219.peak_3     1.33     1.04         0.11  \n",
      "ImmGenATAC1219.peak_4     1.28     1.04         0.11  \n",
      "ImmGenATAC1219.peak_5     1.33     1.61         4.50  \n",
      "\n",
      "[5 rows x 97 columns]\n"
     ]
    }
   ],
   "source": [
    "#Define the data directory and file paths\n",
    "#Create a directory for data if it doesn't exist\n",
    "DATA_DIR = \"data/\"\n",
    "if not os.path.exists(DATA_DIR):\n",
    "    os.makedirs(DATA_DIR)\n",
    "\n",
    "ATACS_SEQ_PATH = os.path.join(DATA_DIR, \"ImmGenATAC18_AllOCRsInfo.csv\")\n",
    "RNA_SEQ_PATH = os.path.join(DATA_DIR, \"mmc2.csv\")\n",
    "MMC1_PATH = os.path.join(DATA_DIR, \"mmc1.xlsx\")\n",
    "REFFLAT_PATH = os.path.join(DATA_DIR, \"refFlat.txt.gz\")\n",
    "\n",
    "#Check if data files are already downloaded and if not, download them\n",
    "def download_with_user_agent(url, filename):\n",
    "    req = urllib.request.Request(url, headers={'User-Agent': 'Mozilla/5.0'})\n",
    "    with urllib.request.urlopen(req) as response, open(filename, 'wb') as out_file:\n",
    "        out_file.write(response.read())\n",
    "\n",
    "# ATAC-seq\n",
    "if not os.path.isfile(ATACS_SEQ_PATH):\n",
    "    download_with_user_agent(\"https://sharehost.hms.harvard.edu/immgen/ImmGenATAC18_AllOCRsInfo.csv\", ATACS_SEQ_PATH)\n",
    "\n",
    "# RNA-seq    \n",
    "if not os.path.isfile(RNA_SEQ_PATH):\n",
    "    download_with_user_agent(\"https://www.cell.com/cms/10.1016/j.cell.2018.12.036/attachment/4392da81-c56e-471a-b1df-0e72f03ecd77/mmc2.csv\", RNA_SEQ_PATH)\n",
    "\n",
    "if not os.path.isfile(MMC1_PATH):\n",
    "    download_with_user_agent(\"https://www.cell.com/cms/10.1016/j.cell.2018.12.036/attachment/e5df7329-d77d-40b3-a03a-34bdbe4b402c/mmc1.xlsx\", MMC1_PATH)\n",
    "    \n",
    "if not os.path.isfile(REFFLAT_PATH):\n",
    "    download_with_user_agent(\"http://hgdownload.cse.ucsc.edu/goldenPath/mm10/database/refFlat.txt.gz\", REFFLAT_PATH)\n",
    "\n",
    "#Load the ATAC-seq data\n",
    "atac_df = pd.read_csv(ATACS_SEQ_PATH, index_col=0)\n",
    "print(atac_df.head())\n"
   ]
  },
  {
   "cell_type": "code",
   "execution_count": null,
   "id": "6b3733fd",
   "metadata": {},
   "outputs": [],
   "source": []
  }
 ],
 "metadata": {
  "kernelspec": {
   "display_name": "data_analysis",
   "language": "python",
   "name": "python3"
  },
  "language_info": {
   "codemirror_mode": {
    "name": "ipython",
    "version": 3
   },
   "file_extension": ".py",
   "mimetype": "text/x-python",
   "name": "python",
   "nbconvert_exporter": "python",
   "pygments_lexer": "ipython3",
   "version": "3.9.21"
  }
 },
 "nbformat": 4,
 "nbformat_minor": 5
}
