{
 "cells": [
  {
   "cell_type": "code",
   "execution_count": null,
   "id": "6b418da6",
   "metadata": {},
   "outputs": [
    {
     "name": "stdout",
     "output_type": "stream",
     "text": [
      "Empty DataFrame\n",
      "Columns: [ILC2.SI, ILC3.NKp46-CCR6-.SI, ILC3.NKp46+.SI, ILC3.CCR6+.SI]\n",
      "Index: []\n"
     ]
    }
   ],
   "source": [
    "import pandas as pd\n",
    "from sklearn.cluster import KMeans\n",
    "from sklearn.preprocessing import StandardScaler\n",
    "import matplotlib.pyplot as plt\n",
    "import seaborn as sns\n",
    "\n",
    "#Verwende read_csv() mit dem Pfad zur CSV-Datei, um eine kommagetrennte Wertedatei zu lesen \n",
    "#Das Lesen von Textdateien ist ähnlich wie bei CSV-Dateien. Die einzige Besonderheit ist, \n",
    "# dass du mit dem Argument sep ein Trennzeichen angeben musst, wie unten gezeigt. Das Trennzeichen-Argument\n",
    "#  bezieht sich auf das Symbol, das zum Trennen von Zeilen in einem DataFrame verwendet wird.\n",
    "#  Komma (sep = \",\"), Leerzeichen(sep = \"\\s\"), Tabulator (sep = \"\\t\") und Doppelpunkt(sep = \":\") \n",
    "# sind die am häufigsten verwendeten Trennzeichen. Hier steht \\s für ein einzelnes Leerzeichen\n",
    "df = pd.read_csv(\"data/data/ImmGenATAC18_AllOCRsInfo.csv\")\n",
    "\n",
    "#ILC spalten extrahieren: Du kannst auch eine Liste von Spaltennamen innerhalb der eckigen Klammern angeben,\n",
    "#  um mehr als eine Spalte abzurufen. Hier werden die eckigen Klammern auf zwei verschiedene Arten verwendet.\n",
    "#  Wir verwenden die äußeren eckigen Klammern, um eine Teilmenge eines DataFrame anzugeben, und die inneren\n",
    "#  eckigen Klammern, um eine Liste zu erstellen.\n",
    "#df[['Pregnancies', 'Outcome']]\n",
    "\n",
    "ilc_columns = [\"ILC2.SI\", \"ILC3.NKp46-CCR6-.SI\", \"ILC3.NKp46+.SI\", \"ILC3.CCR6+.SI\"]\n",
    "ilc_data = df[ilc_columns]\n",
    "\n",
    "#Du kannst die ersten oder letzten Zeilen eines DataFrames mit den Methoden .head() bzw. .tail() anzeigen.\n",
    "#  Du kannst die Anzahl der Zeilen mit dem Argument n angeben (der Standardwert ist 5).\n",
    "ilc_data.head()\n",
    "\n",
    "ilc_data\n",
    "\n",
    "#Überprüfen auf fehlende Werte: Da es oft nützlicher ist, zu wissen, wie viele fehlende Daten du hast, \n",
    "# kannst du .isnull() mit .sum() kombinieren, um die Anzahl der Nullen in jeder Spalte zu zählen.\n",
    "ilc_data.isnull().head(7)\n",
    "ilc_data.isnull().sum()\n",
    "\n",
    "#jetzt daten nach bestimmten bedingungen filtern: Um Daten auf der Grundlage einer Bedingung zu extrahieren:\n",
    "#df[df[\"BloodPressure\"] > 100]\n",
    "#filtered_df = df[(df['Stadt'] == 'Berlin')]\n",
    "#rows_with_na = df[df.eq(\"NA\").any(axis=1)] : df.eq(\"NA\"): Gibt ein DataFrame mit True zurück, wo \"NA\" steht.\n",
    "#.any(axis=1): Gibt True für jede Zeile, die mindestens ein \"NA\" enthält.\n",
    "#df[...]: Filtert nur die entsprechenden Zeilen.\n",
    "\n",
    "rows_with_na = ilc_data[ilc_data.eq(\"NA\").any(axis=1)]\n",
    "print(rows_with_na)\n",
    "\n",
    "#K-means clutering\n",
    "\n"
   ]
  },
  {
   "cell_type": "code",
   "execution_count": null,
   "id": "6478b322",
   "metadata": {},
   "outputs": [],
   "source": []
  }
 ],
 "metadata": {
  "kernelspec": {
   "display_name": "data_analysis",
   "language": "python",
   "name": "python3"
  },
  "language_info": {
   "codemirror_mode": {
    "name": "ipython",
    "version": 3
   },
   "file_extension": ".py",
   "mimetype": "text/x-python",
   "name": "python",
   "nbconvert_exporter": "python",
   "pygments_lexer": "ipython3",
   "version": "3.13.3"
  }
 },
 "nbformat": 4,
 "nbformat_minor": 5
}
