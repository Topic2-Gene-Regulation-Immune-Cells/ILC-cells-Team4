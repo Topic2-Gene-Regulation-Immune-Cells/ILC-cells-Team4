{
 "cells": [
  {
   "cell_type": "code",
   "execution_count": 5,
   "id": "04377838",
   "metadata": {},
   "outputs": [
    {
     "name": "stdout",
     "output_type": "stream",
     "text": [
      "              Celltype  Cluster\n",
      "0        NK.27+11b-.BM        2\n",
      "1        NK.27+11b+.BM        2\n",
      "2        NK.27-11b+.BM        2\n",
      "3        NK.27+11b-.Sp        0\n",
      "4        NK.27+11b+.Sp        2\n",
      "5        NK.27-11b+.Sp        2\n",
      "6              ILC2.SI        1\n",
      "7  ILC3.NKp46-CCR6-.SI        1\n",
      "8       ILC3.NKp46+.SI        1\n",
      "9        ILC3.CCR6+.SI        1\n"
     ]
    },
    {
     "name": "stderr",
     "output_type": "stream",
     "text": [
      "c:\\Users\\janna\\miniconda3\\envs\\data_analysis\\Lib\\site-packages\\sklearn\\cluster\\_kmeans.py:1429: UserWarning: KMeans is known to have a memory leak on Windows with MKL, when there are less chunks than available threads. You can avoid it by setting the environment variable OMP_NUM_THREADS=1.\n",
      "  warnings.warn(\n"
     ]
    }
   ],
   "source": [
    "import pandas as pd\n",
    "from sklearn.cluster import KMeans\n",
    "\n",
    "# Load the data\n",
    "df_raw = pd.read_csv(\"data/ImmGenATAC18_AllOCRsInfo.csv\", header=0, quotechar='\"', low_memory=False)\n",
    "\n",
    "# Extract NK and ILC columns\n",
    "df_expr = df_raw[['NK.27+11b-.BM', 'NK.27+11b+.BM', 'NK.27-11b+.BM', 'NK.27+11b-.Sp',\n",
    "       'NK.27+11b+.Sp', 'NK.27-11b+.Sp', 'ILC2.SI', 'ILC3.NKp46-CCR6-.SI',\n",
    "       'ILC3.NKp46+.SI', 'ILC3.CCR6+.SI']]  # Spalten 63-72\n",
    "df_expr_T = df_expr.T  # Transponieren: Zelltypen = Zeilen\n",
    "\n",
    "# K-Means-Clustering\n",
    "k = 3 \n",
    "kmeans = KMeans(n_clusters=k, random_state=42)\n",
    "cluster_labels = kmeans.fit_predict(df_expr_T)\n",
    "\n",
    "# Result: Data frame with cell types and the corresponding clusters\n",
    "df_clusters = pd.DataFrame({\n",
    "    \"Celltype\": df_expr_T.index,\n",
    "    \"Cluster\": cluster_labels\n",
    "})\n",
    "\n",
    "#save as csv\n",
    "df_clusters.to_csv(\"celltype_kmeans_clusters.csv\", index=False)\n",
    "print(df_clusters)"
   ]
  },
  {
   "cell_type": "markdown",
   "id": "6191803c",
   "metadata": {},
   "source": [
    "To further show, that the cell types cluster according to their ATAC signal, we peformed KMeans clustering and computed a table with the cell types and the cluster number, they were assigned to. The ILC cell types cluster together in the same cluster. With one exception - the NK.27+11b-.Sp cells - the NK cells cluster in the same cluster aswell. The different clustering of the NK.27+11b-.Sp cells could be explained by their less mature stage compared to CD11b+ subtypes and the different origin tissue (spleen vs. bone marrow)"
   ]
  }
 ],
 "metadata": {
  "kernelspec": {
   "display_name": "data_analysis",
   "language": "python",
   "name": "python3"
  },
  "language_info": {
   "codemirror_mode": {
    "name": "ipython",
    "version": 3
   },
   "file_extension": ".py",
   "mimetype": "text/x-python",
   "name": "python",
   "nbconvert_exporter": "python",
   "pygments_lexer": "ipython3",
   "version": "3.13.3"
  }
 },
 "nbformat": 4,
 "nbformat_minor": 5
}
