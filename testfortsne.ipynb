{
 "cells": [
  {
   "cell_type": "code",
   "execution_count": 1,
   "id": "cedbb95e",
   "metadata": {},
   "outputs": [
    {
     "name": "stdout",
     "output_type": "stream",
     "text": [
      "   ImmGenATAC1219.peakID chrom   Summit  mm10.60way.phastCons_scores  \\\n",
      "0  ImmGenATAC1219.peak_1  chr1  3020786                         0.00   \n",
      "1  ImmGenATAC1219.peak_2  chr1  3087226                         0.00   \n",
      "2  ImmGenATAC1219.peak_3  chr1  3120109                         0.07   \n",
      "3  ImmGenATAC1219.peak_4  chr1  3121485                         0.15   \n",
      "4  ImmGenATAC1219.peak_5  chr1  3372787                         0.03   \n",
      "\n",
      "   _-log10_bestPvalue  Included.in.systematic.analysis  TSS  \\\n",
      "0                0.56                              NaN  NaN   \n",
      "1                0.50                              NaN  NaN   \n",
      "2               10.80                              1.0  NaN   \n",
      "3                3.02                              1.0  NaN   \n",
      "4                1.31                              NaN  NaN   \n",
      "\n",
      "  genes.within.100Kb  LTHSC.34-.BM  LTHSC.34+.BM  ...  DC.4+.Sp  DC.8+.Sp  \\\n",
      "0                NaN          0.41          0.71  ...      0.10      0.10   \n",
      "1                NaN          0.41          1.64  ...      1.70      0.10   \n",
      "2                NaN          2.36          0.10  ...      0.87      0.54   \n",
      "3                NaN          0.41          0.10  ...      0.44      1.83   \n",
      "4                NaN          0.41          0.10  ...      0.44      0.10   \n",
      "\n",
      "   DC.pDC.Sp  DC.103+11b+.SI  DC.103+11b-.SI  FRC.SLN  IAP.SLN  BEC.SLN  \\\n",
      "0       3.19            1.37            0.52     1.27     0.10     0.57   \n",
      "1       1.41            0.47            0.11     0.92     0.98     2.16   \n",
      "2       2.72            0.95            0.11    63.38     8.92     1.33   \n",
      "3       0.66            0.11            0.92    13.50     0.98     1.28   \n",
      "4       0.66            1.79            0.51     0.92     0.75     1.33   \n",
      "\n",
      "   LEC.SLN  Ep.MEChi.Th  \n",
      "0     3.27         1.41  \n",
      "1     2.34         0.94  \n",
      "2     1.04         0.11  \n",
      "3     1.04         0.11  \n",
      "4     1.61         4.50  \n",
      "\n",
      "[5 rows x 98 columns]\n",
      "['ImmGenATAC1219.peakID', 'chrom', 'Summit', 'mm10.60way.phastCons_scores', '_-log10_bestPvalue', 'Included.in.systematic.analysis', 'TSS', 'genes.within.100Kb', 'LTHSC.34-.BM', 'LTHSC.34+.BM', 'STHSC.150-.BM', 'MPP4.135+.BM', 'proB.CLP.BM', 'proB.FrA.BM', 'proB.FrBC.BM', 'preB.FrD.BM', 'B.FrE.BM', 'B1b.PC', 'B.T1.Sp', 'B.T2.Sp', 'B.T3.Sp', 'B.Sp', 'B.Fem.Sp', 'B.MZ.Sp', 'B.Fo.Sp', 'B.mem.Sp', 'B.GC.CB.Sp', 'B.GC.CC.Sp', 'B.PB.Sp', 'B.PC.Sp', 'B.PC.BM', 'preT.DN1.Th', 'preT.DN2a.Th', 'preT.DN2b.Th', 'preT.DN3.Th', 'T.DN4.Th', 'T.ISP.Th', 'T.DP.Th', 'T.4.Th', 'T.8.Th', 'T.4.Nve.Sp', 'T.4.Nve.Fem.Sp', 'T.8.Nve.Sp', 'T.4.Sp.aCD3+CD40.18hr', 'Treg.4.FP3+.Nrplo.Co', 'Treg.4.25hi.Sp', 'T8.TN.P14.Sp', 'T8.IEL.LCMV.d7.SI', 'T8.TE.LCMV.d7.Sp', 'T8.MP.LCMV.d7.Sp', 'T8.Tcm.LCMV.d180.Sp', 'T8.Tem.LCMV.d180.Sp', 'NKT.Sp', 'NKT.Sp.LPS.3hr', 'NKT.Sp.LPS.18hr', 'NKT.Sp.LPS.3d', 'Tgd.g2+d17.24a+.Th', 'Tgd.g2+d17.LN', 'Tgd.g2+d1.24a+.Th', 'Tgd.g2+d1.LN', 'Tgd.g1.1+d1.24a+.Th', 'Tgd.g1.1+d1.LN', 'Tgd.Sp', 'NK.27+11b-.BM', 'NK.27+11b+.BM', 'NK.27-11b+.BM', 'NK.27+11b-.Sp', 'NK.27+11b+.Sp', 'NK.27-11b+.Sp', 'ILC2.SI', 'ILC3.NKp46-CCR6-.SI', 'ILC3.NKp46+.SI', 'ILC3.CCR6+.SI', 'MPP3.48+.BM', 'GN.BM', 'GN.Sp', 'GN.Thio.PC', 'Mo.6C+II-.Bl', 'Mo.6C-II-.Bl', 'MF.pIC.Alv.Lu', 'MF.226+II+480lo.PC', 'MF.ICAM+480hi.PC', 'MF.RP.Sp', 'MF.LP.SI', 'MF.Alv.Lu', 'MF.microglia.CNS', 'MF.PC', 'MF.Fem.PC', 'DC.4+.Sp', 'DC.8+.Sp', 'DC.pDC.Sp', 'DC.103+11b+.SI', 'DC.103+11b-.SI', 'FRC.SLN', 'IAP.SLN', 'BEC.SLN', 'LEC.SLN', 'Ep.MEChi.Th']\n"
     ]
    }
   ],
   "source": [
    "import pandas as pd\n",
    "\n",
    "# Lade den Datensatz\n",
    "df = pd.read_csv(\"data/ImmGenATAC18_AllOCRsInfo.csv\")\n",
    "\n",
    "# Zeige erste Zeilen und Spaltennamen\n",
    "print(df.head())\n",
    "print(df.columns.tolist())"
   ]
  }
 ],
 "metadata": {
  "kernelspec": {
   "display_name": "data_analysis",
   "language": "python",
   "name": "python3"
  },
  "language_info": {
   "codemirror_mode": {
    "name": "ipython",
    "version": 3
   },
   "file_extension": ".py",
   "mimetype": "text/x-python",
   "name": "python",
   "nbconvert_exporter": "python",
   "pygments_lexer": "ipython3",
   "version": "3.13.3"
  }
 },
 "nbformat": 4,
 "nbformat_minor": 5
}
