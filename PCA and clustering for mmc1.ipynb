{
 "cells": [
  {
   "cell_type": "code",
   "execution_count": null,
   "id": "08bb5f9b",
   "metadata": {},
   "outputs": [],
   "source": [
    "%pip install numpy\n",
    "%pip install matplotlib\n",
    "%pip install pandas\n",
    "%pip install seaborn\n",
    "%pip install scikit-learn"
   ]
  },
  {
   "cell_type": "code",
   "execution_count": null,
   "id": "bb9db475",
   "metadata": {},
   "outputs": [],
   "source": [
    "import pandas as pd\n",
    "from sklearn.cluster import KMeans\n",
    "from sklearn.preprocessing import StandardScaler\n",
    "from sklearn.decomposition import PCA\n",
    "import matplotlib.pyplot as plt\n",
    "import seaborn as sns\n",
    "\n",
    "# Load mmc1 dataset\n",
    "df = pd.read_excel('./data/mmc1.xlsx', index_col=None, header=None)\n",
    "df "
   ]
  },
  {
   "cell_type": "code",
   "execution_count": null,
   "id": "78b286aa",
   "metadata": {},
   "outputs": [],
   "source": [
    "cell_types = [ \"NK.27+11b-.BM\",\n",
    "\"NK.27+11b+.BM\",\n",
    "\"NK.27-11b+.BM\",\n",
    "\"NK.27+11b-.Sp\",\n",
    "\"NK.27+11b+.Sp\",\n",
    "\"NK.27-11b+.Sp\",\n",
    "\"ILC2.SI\",\n",
    "\"ILC3.NKp46-CCR6-.SI\",\n",
    "\"ILC3.NKp46+.SI\",\n",
    "\"ILC3.CCR6+.SI\"]\n",
    "\n",
    "filtered_df = df[df[1].isin(cell_types)]\n",
    "filtered_df"
   ]
  },
  {
   "cell_type": "code",
   "execution_count": null,
   "id": "bb460a81",
   "metadata": {},
   "outputs": [],
   "source": [
    "# 3. Separate metadata from numerical data and only keep numeric columns\n",
    "numeric_df = filtered_df.apply(pd.to_numeric, errors='coerce')\n",
    "numeric_df = numeric_df.dropna(how='all')\n",
    "# Remove the first seven columns \n",
    "numeric_df = numeric_df.iloc[:, 7:]\n",
    "numeric_df"
   ]
  },
  {
   "cell_type": "code",
   "execution_count": null,
   "id": "9d0dea8f",
   "metadata": {},
   "outputs": [],
   "source": [
    "# 4. Standardize the data\n",
    "scaler = StandardScaler()\n",
    "scaled_data = scaler.fit_transform(numeric_df)"
   ]
  },
  {
   "cell_type": "code",
   "execution_count": null,
   "id": "576e93c9",
   "metadata": {},
   "outputs": [],
   "source": [
    "# K-Means Clustering\n",
    "kmeans = KMeans(n_clusters=3, random_state=42)\n",
    "kmeans.fit(scaled_data)\n",
    "# Add cluster labels to the original DataFrame\n",
    "filtered_df['Cluster'] = kmeans.labels_\n",
    "\n",
    "filtered_df['Cluster']"
   ]
  },
  {
   "cell_type": "code",
   "execution_count": null,
   "id": "5397a76f",
   "metadata": {},
   "outputs": [],
   "source": [
    "# 5. Apply PCA\n",
    "pca = PCA(n_components=2)\n",
    "pca_result = pca.fit_transform(scaled_data)"
   ]
  },
  {
   "cell_type": "code",
   "execution_count": null,
   "id": "27270e2a",
   "metadata": {},
   "outputs": [],
   "source": [
    "# Make DataFrame for plotting\n",
    "pca_df = pd.DataFrame(data=pca_result, columns=['PC1', 'PC2'])"
   ]
  },
  {
   "cell_type": "code",
   "execution_count": null,
   "id": "120aab1d",
   "metadata": {},
   "outputs": [],
   "source": [
    "pca_df"
   ]
  },
  {
   "cell_type": "code",
   "execution_count": null,
   "id": "993b0ae0",
   "metadata": {},
   "outputs": [],
   "source": [
    "\n",
    "# Plot\n",
    "plt.figure(figsize=(8, 6))\n",
    "sns.scatterplot(data=pca_df, x=\"PC1\", y=\"PC2\")\n",
    "plt.title(\"PCA of Gene Expression\")\n",
    "plt.xlabel(f\"PC1 ({pca.explained_variance_ratio_[0]*100:.1f}% variance)\")\n",
    "plt.ylabel(f\"PC2 ({pca.explained_variance_ratio_[1]*100:.1f}% variance)\")\n",
    "plt.tight_layout()\n",
    "plt.show()"
   ]
  },
  {
   "cell_type": "code",
   "execution_count": null,
   "id": "ec5e8a4b",
   "metadata": {},
   "outputs": [],
   "source": [
    "# K-Means Clustering\n",
    "kmeans = KMeans(n_clusters=5, random_state=42)\n",
    "kmeans.fit(scaled_data)\n",
    "# Add cluster labels \n",
    "pca_df['Cluster'] = kmeans.labels_\n",
    "# Plot with clusters\n",
    "plt.figure(figsize=(8, 6))\n",
    "sns.scatterplot(data=pca_df, x=\"PC1\", y=\"PC2\", hue=\"Cluster\", palette=\"viridis\")\n",
    "plt.title(\"PCA of Gene Expression with K-Means Clustering\")\n",
    "plt.xlabel(f\"PC1 ({pca.explained_variance_ratio_[0]*100:.1f}% variance)\")\n",
    "plt.ylabel(f\"PC2 ({pca.explained_variance_ratio_[1]*100:.1f}% variance)\")\n",
    "plt.legend(title='Cluster')\n",
    "plt.tight_layout()\n",
    "plt.show()"
   ]
  },
  {
   "cell_type": "code",
   "execution_count": null,
   "id": "fb90720f",
   "metadata": {},
   "outputs": [],
   "source": [
    "pca_df['Cluster']"
   ]
  },
  {
   "cell_type": "code",
   "execution_count": null,
   "id": "d7dcf432",
   "metadata": {},
   "outputs": [],
   "source": []
  }
 ],
 "metadata": {
  "language_info": {
   "name": "python"
  }
 },
 "nbformat": 4,
 "nbformat_minor": 5
}
