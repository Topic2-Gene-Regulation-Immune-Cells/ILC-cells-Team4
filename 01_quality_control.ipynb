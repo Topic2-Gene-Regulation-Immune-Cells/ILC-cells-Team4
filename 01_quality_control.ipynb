{
 "cells": [
  {
   "cell_type": "markdown",
   "id": "ca17d85b",
   "metadata": {},
   "source": [
    "# Quality Control\n",
    "This notebook calculates some key metrics and generates plots of them to assess the quality of the ATAC-seq and RNA-seq data sets."
   ]
  },
  {
   "cell_type": "code",
   "execution_count": null,
   "id": "f59633a8",
   "metadata": {},
   "outputs": [],
   "source": [
    "import pandas as pd\n",
    "import numpy as np\n",
    "import matplotlib.pyplot as plt\n",
    "import seaborn as sns\n",
    "import os.path\n",
    "\n",
    "DATA_DIR = \"data/\"\n",
    "ATAC_SEQ_PATH = os.path.join(DATA_DIR, \"ImmGenATAC18_AllOCRsInfo.csv\")\n",
    "RNA_SEQ_PATH = os.path.join(DATA_DIR, \"mmc2.csv\")\n",
    "MMC1_PATH = os.path.join(DATA_DIR, \"mmc1.xlsx\")\n",
    "\n",
    "#Load the ATAC-seq data\n",
    "atac = pd.read_csv(ATAC_SEQ_PATH, index_col=[0,1,2])\n",
    "\n",
    "#Load the RNA-seq data\n",
    "rna = pd.read_csv(RNA_SEQ_PATH, index_col=0)\n",
    "\n",
    "#Load the meta data\n",
    "meta1 = pd.read_excel(MMC1_PATH, sheet_name=\"SortedPopulations\")\n",
    "meta1 = meta1.set_index(\"SampleName\").groupby(\"CellType\")\n",
    "meta2 = pd.read_excel(MMC1_PATH, sheet_name=\"Read Statistics\")\n",
    "meta2 = meta2.set_index(\"sample.name\").groupby(\"population.name\")"
   ]
  },
  {
   "cell_type": "code",
   "execution_count": null,
   "id": "22989f41",
   "metadata": {},
   "outputs": [],
   "source": [
    "sns.set_theme(style=\"whitegrid\")\n",
    "\n",
    "# 1. Compute per‐cell stats\n",
    "cell_stats = pd.DataFrame({\n",
    "    \"mean_access\":   atac.mean(axis=0, numeric_only=True),\n",
    "    \"median_access\": atac.median(axis=0, numeric_only=True),\n",
    "    \"std_access\":    atac.std(axis=0, numeric_only=True)\n",
    "})\n",
    "#remove data that aren't cell populations\n",
    "cell_stats = cell_stats.drop(index=[\"mm10.60way.phastCons_scores\", \"_-log10_bestPvalue\", \"Included.in.systematic.analysis\"])\n",
    "\n",
    "# 2. Visualize\n",
    "plt.figure(figsize=(5,4))\n",
    "sns.histplot(cell_stats[\"mean_access\"], bins=80, kde=True)\n",
    "plt.title(\"Mean ATAC Accessibility per Cell\")\n",
    "plt.show()\n",
    "\n",
    "plt.figure(figsize=(5,4))\n",
    "sns.histplot(cell_stats[\"median_access\"], bins=30, kde=True)\n",
    "plt.title(\"Median ATAC Accessibility per Cell\")\n",
    "plt.show()\n",
    "\n",
    "plt.figure(figsize=(5,4))\n",
    "sns.histplot(cell_stats[\"std_access\"], bins=80, kde=True)\n",
    "plt.title(\"std ATAC Accessibility per Cell\")\n",
    "plt.show()\n",
    "\n",
    "cell_stats"
   ]
  },
  {
   "cell_type": "code",
   "execution_count": null,
   "id": "5d3ef769",
   "metadata": {},
   "outputs": [],
   "source": [
    "rna_cell_stats = pd.DataFrame({\n",
    "    \"mean_expr\":   rna.mean(axis=0),\n",
    "    \"median_expr\": rna.median(axis=0),\n",
    "    \"std_expr\":    rna.std(axis=0)\n",
    "})\n",
    "# Merge QC if desired (e.g. InputCellNumber)\n",
    "#if \"PF.reads\" in meta1.columns:\n",
    "#    rna_cell_stats[\"PF.reads\"] = meta1.groupby(\"CellType\")[\"PF.reads\"].sum()\n",
    "\n",
    "plt.figure(figsize=(5,4))\n",
    "sns.histplot(rna_cell_stats[\"mean_expr\"], bins=30, kde=True)\n",
    "plt.title(\"RNA: Mean-Expression per Cell Type\")\n",
    "plt.show()\n",
    "\n",
    "plt.figure(figsize=(5,4))\n",
    "sns.histplot(rna_cell_stats[\"median_expr\"], bins=30, kde=True)\n",
    "plt.title(\"RNA: Median-Expression per Cell Type\")\n",
    "plt.show()\n",
    "\n",
    "plt.figure(figsize=(5,4))\n",
    "sns.histplot(rna_cell_stats[\"std_expr\"], bins=30, kde=True)\n",
    "plt.title(\"RNA: std-Expression per Cell Type\")\n",
    "plt.show()\n",
    "\n",
    "rna_cell_stats"
   ]
  },
  {
   "cell_type": "code",
   "execution_count": null,
   "id": "d78c5cc2",
   "metadata": {},
   "outputs": [],
   "source": [
    "# 4.1 Peak stats\n",
    "peak_stats = pd.DataFrame({\n",
    "    \"mean_access\": atac.mean(axis=1, numeric_only=True),\n",
    "    \"var_access\":  atac.var(axis=1, numeric_only=True),\n",
    "    \"cv_access\":   atac.std(axis=1, numeric_only=True)/(atac.mean(axis=1, numeric_only=True)+1e-6)\n",
    "})\n",
    "\n",
    "plt.figure(figsize=(5,4))\n",
    "sns.histplot(peak_stats[\"mean_access\"], bins=100, kde=True)\n",
    "plt.title(\"ATAC: Mean-Expression per Peak\")\n",
    "plt.show()\n",
    "\n",
    "peak_stats"
   ]
  },
  {
   "cell_type": "code",
   "execution_count": null,
   "id": "f6f32b49",
   "metadata": {},
   "outputs": [],
   "source": [
    "meta_sum = meta1.sum().drop(columns=[\"%chrM.mapped\", \"%fragment.1Kb_TSS\", \"Replicate.cor\"]).join(meta2.sum().drop(columns=[\"overal_ alignment_rate%\"]))\n",
    "meta_mean = meta1[[\"%chrM.mapped\", \"%fragment.1Kb_TSS\", \"Replicate.cor\"]].mean().join(meta2[\"overal_ alignment_rate%\"].mean())\n",
    "meta = pd.concat([meta_sum, meta_mean], axis=1)\n",
    "#meta = meta.drop(columns=[\"%chrM.mapped\", \"%fragment.1Kb_TSS\", \"overal_ alignment_rate%\", \"Replicate.cor\"]) #TODO: proper calculation\n",
    "meta_num = meta.select_dtypes([np.number])\n",
    "\n",
    "meta_num\n"
   ]
  },
  {
   "cell_type": "code",
   "execution_count": null,
   "id": "8213bdc2",
   "metadata": {},
   "outputs": [],
   "source": [
    "atac_correlation = pd.DataFrame(columns=cell_stats.columns, index=meta_num.columns)\n",
    "for col in cell_stats.columns:\n",
    "    for key in meta_num.columns:\n",
    "        atac_correlation.loc[key, col] = cell_stats[col].corr(meta[key], method='pearson') \n",
    "\n",
    "plt.figure(figsize=(8, 4))\n",
    "sns.heatmap(atac_correlation.astype(float), annot=True, cmap=\"vlag\", center=0)\n",
    "plt.title(\"Correlation: ATAC cell stats vs. Meta QC\")\n",
    "plt.show()"
   ]
  },
  {
   "cell_type": "code",
   "execution_count": null,
   "id": "89275b28",
   "metadata": {},
   "outputs": [],
   "source": [
    "rna_correlation = pd.DataFrame(columns=rna_cell_stats.columns, index=meta_num.columns)\n",
    "for col in rna_cell_stats.columns:\n",
    "    for key in meta_num.columns:\n",
    "        rna_correlation.loc[key, col] = rna_cell_stats[col].corr(meta[key], method='pearson') \n",
    "\n",
    "plt.figure(figsize=(8, 4))\n",
    "sns.heatmap(rna_correlation.astype(float), annot=True, cmap=\"vlag\", center=0)\n",
    "plt.title(\"Correlation: RNA cell stats vs. Meta QC\")\n",
    "plt.show()"
   ]
  }
 ],
 "metadata": {
  "kernelspec": {
   "display_name": "data_analysis",
   "language": "python",
   "name": "python3"
  },
  "language_info": {
   "name": "python",
   "version": "3.13.3"
  }
 },
 "nbformat": 4,
 "nbformat_minor": 5
}
