{
 "cells": [
  {
   "cell_type": "code",
<<<<<<< HEAD
   "execution_count": 6,
=======
   "execution_count": null,
>>>>>>> e301be32c31552e20b2cc2f83c7f18900f9e2919
   "id": "42e754c7",
   "metadata": {},
   "outputs": [
    {
     "data": {
<<<<<<< HEAD
      "text/html": [
       "<div>\n",
       "<style scoped>\n",
       "    .dataframe tbody tr th:only-of-type {\n",
       "        vertical-align: middle;\n",
       "    }\n",
       "\n",
       "    .dataframe tbody tr th {\n",
       "        vertical-align: top;\n",
       "    }\n",
       "\n",
       "    .dataframe thead th {\n",
       "        text-align: right;\n",
       "    }\n",
       "</style>\n",
       "<table border=\"1\" class=\"dataframe\">\n",
       "  <thead>\n",
       "    <tr style=\"text-align: right;\">\n",
       "      <th></th>\n",
       "      <th>ILC2.SI</th>\n",
       "      <th>ILC3.NKp46-CCR6-.SI</th>\n",
       "      <th>ILC3.NKp46+.SI</th>\n",
       "      <th>ILC3.CCR6+.SI</th>\n",
       "    </tr>\n",
       "  </thead>\n",
       "  <tbody>\n",
       "    <tr>\n",
       "      <th>0</th>\n",
       "      <td>1.577214</td>\n",
       "      <td>5.893468</td>\n",
       "      <td>1.730408</td>\n",
       "      <td>1.023171</td>\n",
       "    </tr>\n",
       "    <tr>\n",
       "      <th>1</th>\n",
       "      <td>161.029228</td>\n",
       "      <td>106.636576</td>\n",
       "      <td>130.897955</td>\n",
       "      <td>99.948796</td>\n",
       "    </tr>\n",
       "    <tr>\n",
       "      <th>2</th>\n",
       "      <td>34.779862</td>\n",
       "      <td>28.079826</td>\n",
       "      <td>49.131301</td>\n",
       "      <td>33.914530</td>\n",
       "    </tr>\n",
       "    <tr>\n",
       "      <th>3</th>\n",
       "      <td>4.251744</td>\n",
       "      <td>17.007084</td>\n",
       "      <td>11.005372</td>\n",
       "      <td>5.896648</td>\n",
       "    </tr>\n",
       "    <tr>\n",
       "      <th>4</th>\n",
       "      <td>126.369601</td>\n",
       "      <td>118.730592</td>\n",
       "      <td>147.295866</td>\n",
       "      <td>131.474014</td>\n",
       "    </tr>\n",
       "  </tbody>\n",
       "</table>\n",
       "</div>"
      ],
      "text/plain": [
       "      ILC2.SI  ILC3.NKp46-CCR6-.SI  ILC3.NKp46+.SI  ILC3.CCR6+.SI\n",
       "0    1.577214             5.893468        1.730408       1.023171\n",
       "1  161.029228           106.636576      130.897955      99.948796\n",
       "2   34.779862            28.079826       49.131301      33.914530\n",
       "3    4.251744            17.007084       11.005372       5.896648\n",
       "4  126.369601           118.730592      147.295866     131.474014"
      ]
     },
     "execution_count": 6,
=======
      "text/plain": [
       "ILC2.SI                0\n",
       "ILC3.NKp46-CCR6-.SI    0\n",
       "ILC3.NKp46+.SI         0\n",
       "ILC3.CCR6+.SI          0\n",
       "dtype: int64"
      ]
     },
     "execution_count": 3,
>>>>>>> e301be32c31552e20b2cc2f83c7f18900f9e2919
     "metadata": {},
     "output_type": "execute_result"
    }
   ],
   "source": [
    "import pandas as pd\n",
    "from sklearn.cluster import KMeans\n",
    "from sklearn.preprocessing import StandardScaler\n",
    "import matplotlib.pyplot as plt\n",
    "import seaborn as sns\n",
    "\n",
    "#Verwende read_csv() mit dem Pfad zur CSV-Datei, um eine kommagetrennte Wertedatei zu lesen \n",
    "#Das Lesen von Textdateien ist ähnlich wie bei CSV-Dateien. Die einzige Besonderheit ist, \n",
    "# dass du mit dem Argument sep ein Trennzeichen angeben musst, wie unten gezeigt. Das Trennzeichen-Argument\n",
    "#  bezieht sich auf das Symbol, das zum Trennen von Zeilen in einem DataFrame verwendet wird.\n",
    "#  Komma (sep = \",\"), Leerzeichen(sep = \"\\s\"), Tabulator (sep = \"\\t\") und Doppelpunkt(sep = \":\") \n",
    "# sind die am häufigsten verwendeten Trennzeichen. Hier steht \\s für ein einzelnes Leerzeichen\n",
    "df = pd.read_csv(\"data/mmc2.csv\")\n",
    "\n",
    "#ILC spalten extrahieren: Du kannst auch eine Liste von Spaltennamen innerhalb der eckigen Klammern angeben,\n",
    "#  um mehr als eine Spalte abzurufen. Hier werden die eckigen Klammern auf zwei verschiedene Arten verwendet.\n",
    "#  Wir verwenden die äußeren eckigen Klammern, um eine Teilmenge eines DataFrame anzugeben, und die inneren\n",
    "#  eckigen Klammern, um eine Liste zu erstellen.\n",
    "#df[['Pregnancies', 'Outcome']]\n",
    "\n",
    "ilc_columns = [\"ILC2.SI\", \"ILC3.NKp46-CCR6-.SI\", \"ILC3.NKp46+.SI\", \"ILC3.CCR6+.SI\"]\n",
    "ilc_data = df[ilc_columns]\n",
    "\n",
    "#Du kannst die ersten oder letzten Zeilen eines DataFrames mit den Methoden .head() bzw. .tail() anzeigen.\n",
    "#  Du kannst die Anzahl der Zeilen mit dem Argument n angeben (der Standardwert ist 5).\n",
    "ilc_data.head()\n",
    "\n",
    "ilc_data\n",
    "\n",
    "#Überprüfen auf fehlende Werte: Da es oft nützlicher ist, zu wissen, wie viele fehlende Daten du hast, \n",
    "# kannst du .isnull() mit .sum() kombinieren, um die Anzahl der Nullen in jeder Spalte zu zählen.\n",
    "ilc_data.isnull().head(7)\n",
    "ilc_data.isnull().sum()\n",
    "\n",
<<<<<<< HEAD
    "ilc_columns = [\"ILC2.SI\", \"ILC3.NKp46-CCR6-.SI\", \"ILC3.NKp46+.SI\", \"ILC3.CCR6+.SI\"]\n",
    "ilc_data = df[ilc_columns]\n",
    "\n",
    "#Du kannst die ersten oder letzten Zeilen eines DataFrames mit den Methoden .head() bzw. .tail() anzeigen.\n",
    "#  Du kannst die Anzahl der Zeilen mit dem Argument n angeben (der Standardwert ist 5).\n",
    "ilc_data.head()"
=======
    "#jetzt daten nach bestimmten bedingungen filtern: Um Daten auf der Grundlage einer Bedingung zu extrahieren:\n",
    "#df[df[\"BloodPressure\"] > 100]"
>>>>>>> e301be32c31552e20b2cc2f83c7f18900f9e2919
   ]
  }
 ],
 "metadata": {
  "kernelspec": {
   "display_name": "data_analysis",
   "language": "python",
   "name": "python3"
  },
  "language_info": {
   "codemirror_mode": {
    "name": "ipython",
    "version": 3
   },
   "file_extension": ".py",
   "mimetype": "text/x-python",
   "name": "python",
   "nbconvert_exporter": "python",
   "pygments_lexer": "ipython3",
   "version": "3.13.3"
  }
 },
 "nbformat": 4,
 "nbformat_minor": 5
}
