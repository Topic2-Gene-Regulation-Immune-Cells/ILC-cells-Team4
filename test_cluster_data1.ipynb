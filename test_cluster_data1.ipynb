
import pandas as pd
from sklearn.cluster import KMeans
from sklearn.preprocessing import StandardScaler
import matplotlib.pyplot as plt
import seaborn as sns

# Schritt 1: CSV-Daten laden
df = pd.read_csv("data/ImmGenATAC18_AllOCRsInfo.csv")

# Schritt 2: Übersicht anschauen (optional)
print(df.head())

# Schritt 3: Zellnamen herausfiltern → Nur Spalten mit ILC
ilc_columns = [col for col in df.columns if col.startswith("ILC")]

# Schritt 4: OCR-Signalmatrix extrahieren
ocr_matrix = df[ilc_columns]

ocr.matrix.show()
