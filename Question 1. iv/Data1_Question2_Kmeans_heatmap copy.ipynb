{
 "cells": [
  {
   "cell_type": "code",
   "execution_count": null,
   "id": "0202794f",
   "metadata": {},
   "outputs": [
    {
     "name": "stderr",
     "output_type": "stream",
     "text": [
      "<>:13: SyntaxWarning: invalid escape sequence '\\I'\n",
      "<>:13: SyntaxWarning: invalid escape sequence '\\I'\n",
      "C:\\Users\\janna\\AppData\\Local\\Temp\\ipykernel_19832\\392556749.py:13: SyntaxWarning: invalid escape sequence '\\I'\n",
      "  df_raw = pd.read_csv(\"data\\ImmGenATAC18_AllOCRsInfo.csv\", header=0, quotechar='\"', low_memory=False)\n"
     ]
    },
    {
     "name": "stdout",
     "output_type": "stream",
     "text": [
      "Can one define different classes of peaks based on the signal and its variation across cells?**\n"
     ]
    }
   ],
   "source": [
    "print(\"Can one define different classes of peaks based on the signal and its variation across cells?**\")\n",
    "\n",
    "import pandas as pd\n",
    "import numpy as np\n",
    "from sklearn.decomposition import PCA\n",
    "from scipy.cluster.hierarchy import linkage, dendrogram\n",
    "from scipy.spatial.distance import pdist\n",
    "import seaborn as sns\n",
    "import matplotlib.pyplot as plt\n",
    "#pearson, spearman auch noch machen\n",
    "\n",
    "# Load the data\n",
    "df_raw = pd.read_csv(\"data\\ImmGenATAC18_AllOCRsInfo.csv\", header=0, quotechar='\"', low_memory=False)\n",
    "\n",
    "# Extract only the columns for NK and ILC. Only 5000 samples\n",
    "df_expr = df_raw[['NK.27+11b-.BM', 'NK.27+11b+.BM', 'NK.27-11b+.BM', 'NK.27+11b-.Sp',\n",
    "       'NK.27+11b+.Sp', 'NK.27-11b+.Sp', 'ILC2.SI', 'ILC3.NKp46-CCR6-.SI',\n",
    "       'ILC3.NKp46+.SI', 'ILC3.CCR6+.SI']]\n",
    "df_expr = df_expr.iloc[:5000, :]\n",
    "df_expr.index = df_raw.iloc[:5000, :] \n",
    "print(df_expr[:10])\n",
    "\n",
    "\n",
    "# Hierarchical clustering using Ward's linkage\n",
    "\n",
    "from sklearn.cluster import KMeans\n",
    "\n",
    "k = 9 \n",
    "kmeans = KMeans(n_clusters=k, random_state=42)\n",
    "df_expr['Cluster'] = kmeans.fit_predict(df_expr)\n",
    "\n",
    "cluster_means = df_expr.groupby('Cluster').mean()\n",
    "\n",
    "# heatmap of the cluster means\n",
    "sns.heatmap(cluster_means, cmap='vlag')\n",
    "plt.title(\"Cluster Mean Accessibility per Cell Type\")\n",
    "plt.show()\n",
    "\n",
    "# OCRs of Cluster 4\n",
    "cluster_4_ocr = df_expr[df_expr['Cluster'] == 4]\n",
    "\n",
    "ocr_names_cluster_4 = cluster_4_ocr.index.tolist()\n",
    "\n",
    "# Printing of OCR names\n",
    "for name in ocr_names_cluster_4:\n",
    "    print(name)\n",
    "\n",
    "# Number OCRs in Cluster 4\n",
    "print(f\"Anzahl OCRs in Cluster 4: {len(ocr_names_cluster_4)}\")\n",
    "\n",
    "#Next: compare NK and ILC to closely related cell types\n",
    "df_expr2 = df_raw[['NK.27+11b-.BM', 'NK.27+11b+.BM', 'NK.27-11b+.BM', 'NK.27+11b-.Sp',\n",
    "       'NK.27+11b+.Sp', 'NK.27-11b+.Sp', 'ILC2.SI', 'ILC3.NKp46-CCR6-.SI',\n",
    "       'ILC3.NKp46+.SI', 'ILC3.CCR6+.SI', 'proB.CLP.BM','proB.FrA.BM','proB.FrBC.BM', 'preT.DN1.Th','preT.DN2a.Th', 'preT.DN2b.Th','preT.DN3.Th']]\n",
    "df_expr2 = df_expr2.iloc[:5000, :]\n",
    "df_expr2.index = df_raw.iloc[:5000, :] \n",
    "\n",
    "print(df_expr2[:10])\n",
    "\n",
    "from sklearn.cluster import KMeans\n",
    "\n",
    "k = 15  \n",
    "kmeans = KMeans(n_clusters=k, random_state=42)\n",
    "df_expr2['Cluster'] = kmeans.fit_predict(df_expr2)\n",
    "\n",
    "cluster_means = df_expr2.groupby('Cluster').mean()\n",
    "\n",
    "# heatmap of the cluster means\n",
    "sns.heatmap(cluster_means, cmap='vlag')\n",
    "plt.title(\"Cluster Mean Accessibility per Cell Type\")\n",
    "plt.show()\n",
    "\n",
    "# OCRs of Cluster 3\n",
    "cluster_4_ocr = df_expr2[df_expr2['Cluster'] == 4]\n",
    "\n",
    "ocr_names_cluster_4 = cluster_4_ocr.index.tolist()\n",
    "\n",
    "# Printing of OCR names\n",
    "for name in ocr_names_cluster_4:\n",
    "    print(name)\n",
    "\n",
    "# Number OCRs in Cluster 3\n",
    "print(f\"Anzahl OCRs in Cluster 3: {len(ocr_names_cluster_4)}\")\n",
    "\n",
    "#When are the clusters active?\n",
    "cluster4_df = df_expr2[df_expr2['Cluster'] == 4].drop(columns='Cluster')\n",
    "# mean accessibility of cluster 4 per cell type\n",
    "mean_accessibility = cluster4_df.mean(axis=0)\n",
    "\n",
    "# define differentiation level (NK from spleen)\n",
    "diff_path = [\n",
    "             'NK.27+11b-.Sp', 'NK.27+11b+.Sp', 'NK.27-11b+.Sp']\n",
    "\n",
    "# Plot \n",
    "\n",
    "mean_accessibility = mean_accessibility[diff_path]\n",
    "plt.figure(figsize=(12, 4))\n",
    "plt.plot(mean_accessibility.index, mean_accessibility.values, marker='o')\n",
    "plt.xticks(rotation=90)\n",
    "plt.ylabel(\"Mean Accessibility (Cluster 4)\")\n",
    "plt.title(\"CRE Activity along Differentiation Path (Cluster 4)\")\n",
    "plt.tight_layout()\n",
    "plt.show()\n",
    "\n",
    "#same with NK from bone marrow\n",
    "cluster4_df = df_expr2[df_expr2['Cluster'] == 4].drop(columns='Cluster')\n",
    "# mean accessibility of cluster 4 per cell type\n",
    "mean_accessibility = cluster4_df.mean(axis=0)\n",
    "\n",
    "# define differentiation level\n",
    "diff_path = ['NK.27+11b-.BM', 'NK.27+11b+.BM', 'NK.27-11b+.BM'\n",
    "             ]\n",
    "\n",
    "# Plot \n",
    "\n",
    "mean_accessibility = mean_accessibility[diff_path]\n",
    "plt.figure(figsize=(12, 4))\n",
    "plt.plot(mean_accessibility.index, mean_accessibility.values, marker='o')\n",
    "plt.xticks(rotation=90)\n",
    "plt.ylabel(\"Mean Accessibility (Cluster 4)\")\n",
    "plt.title(\"CRE Activity along Differentiation Path (Cluster 4)\")\n",
    "plt.tight_layout()\n",
    "plt.show()"
   ]
  },
  {
   "cell_type": "markdown",
   "id": "7fd2ab9a",
   "metadata": {},
   "source": [
    "In this section, we want to take a closer look at the OCR x Cell type matrix and determine, if we can define different classes of peaks according to their signal variation across the NK and ILC subtypes. \n",
    "We load the data set, extract only the relevant columns and pick a random sample of 5000 peaks. The index was set to the OCR IDs from the original dataset to allow for easier identification."
   ]
  },
  {
   "cell_type": "markdown",
   "id": "341a3981",
   "metadata": {},
   "source": [
    "We then peformed a Kmeans clustering and grouped the clusters by their mean accessibility. The heatmeap visualizes the clusters: Each row represents a cluster of OCRs grouped by similar accessibility patterns across NK and ILC cell types. The observed differences between clusters — some showing broad accessibility (e.g. cluster 4) — suggest that distinct classes of peaks do exist. This supports the idea that chromatin accessibility varies across cell types and can be used to define functionally distinct groups of regulatory elements. We take a closser look at the cluster that is highly available in NK and ILC subtypes and extract the specific peaks that are in this cluster, to compare if they match with the peaks in the heatmap of atac.ipynb."
   ]
  },
  {
   "cell_type": "markdown",
   "id": "14e0799a",
   "metadata": {},
   "source": [
    "To compare NK and ILC cells with closely related cells and determine if they differ, we do the same procedure and take pre T-Cells and pro B-cells into account. Cluster 4, containing the same peaks as cluster 4 in the first heatmap, is still acceessible in all cell subtypes. This suggests, that these peaks are highly conserved. However, the clusters do not show distinct patterns in the different cell types. This does not support the hypothesis, that one can define different classes of peaks according to their signal in different cell types, so we have to investigate further. "
   ]
  },
  {
   "cell_type": "markdown",
   "id": "209fdd5f",
   "metadata": {},
   "source": [
    "Cluster 4 is active in all three NK cell subtypes:\n",
    "All three cell types show relatively high mean accessibility, indicating that the CREs in Cluster 4 are accessible across NK subtypes in the spleen. There is a slight drop in accessibility from NK.27+11b-.Sp to NK.27+11b+.Sp, followed by an increase in NK.27-11b+.Sp.\n",
    "This suggests that some CREs in Cluster 4 may become transiently less active during intermediate stages of NK cell differentiation. Their highest accessibility is observed in the NK.27-11b+.Sp subtype, possibly indicating mature or fully differentiated NK cells. Cluster 4 CREs also show dynamic regulation during NK development in bone marrow, with early and late activity peaks"
   ]
  }
 ],
 "metadata": {
  "kernelspec": {
   "display_name": "data_analysis",
   "language": "python",
   "name": "python3"
  },
  "language_info": {
   "codemirror_mode": {
    "name": "ipython",
    "version": 3
   },
   "file_extension": ".py",
   "mimetype": "text/x-python",
   "name": "python",
   "nbconvert_exporter": "python",
   "pygments_lexer": "ipython3",
   "version": "3.13.3"
  }
 },
 "nbformat": 4,
 "nbformat_minor": 5
}
