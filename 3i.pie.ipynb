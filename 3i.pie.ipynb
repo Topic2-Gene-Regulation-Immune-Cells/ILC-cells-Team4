{
 "cells": [
  {
   "cell_type": "code",
   "execution_count": 22,
   "id": "456abf4d",
   "metadata": {},
   "outputs": [],
   "source": [
    "import pandas as pd\n",
    "\n",
    "# Load ATAC peak × cell matrix\n",
    "atac = pd.read_csv(\"./data/ATAC.csv\")\n",
    "\n",
    "# Create a 200bp window around the summit\n",
    "atac[\"Start\"] = (atac[\"Summit\"] - 100).clip(lower=0).astype(int)\n",
    "atac[\"End\"] = (atac[\"Summit\"] + 100).astype(int)\n",
    "atac[\"Chromosome\"] = atac[\"chrom\"]\n",
    "\n",
    "# Define the correct ILC/NK cell types\n",
    "cell_types = [\n",
    "    'NK.27+11b-.BM', 'NK.27+11b+.BM', 'NK.27-11b+.BM',\n",
    "    'NK.27+11b-.Sp', 'NK.27+11b+.Sp', 'NK.27-11b+.Sp',\n",
    "    'ILC2.SI', 'ILC3.NKp46-CCR6-.SI', 'ILC3.NKp46+.SI', 'ILC3.CCR6+.SI'\n",
    "]\n",
    "\n",
    "# Compute mean accessibility across these cell types\n",
    "atac[\"mean_accessibility\"] = atac[cell_types].mean(axis=1)\n"
   ]
  },
  {
   "cell_type": "code",
   "execution_count": 14,
   "id": "1f0ee48f",
   "metadata": {},
   "outputs": [
    {
     "name": "stdout",
     "output_type": "stream",
     "text": [
      "['Unnamed: 0', 'LTHSC.34-.BM', 'LTHSC.34+.BM', 'STHSC.150-.BM', 'MPP4.135+.BM', 'proB.CLP.BM', 'proB.FrA.BM', 'proB.FrBC.BM', 'B.FrE.BM', 'B1b.PC', 'B.T1.Sp', 'B.T2.Sp', 'B.T3.Sp', 'B.Sp', 'B.Fem.Sp', 'B.MZ.Sp', 'B.Fo.Sp', 'B.mem.Sp', 'B.GC.CB.Sp', 'B.GC.CC.Sp', 'B.PB.Sp', 'B.PC.Sp', 'B.PC.BM', 'preT.DN1.Th', 'preT.DN2a.Th', 'preT.DN2b.Th', 'preT.DN3.Th', 'T.DN4.Th', 'T.ISP.Th', 'T.DP.Th', 'T.4.Th', 'T.8.Th', 'T.4.Nve.Sp', 'T.4.Nve.Fem.Sp', 'T.8.Nve.Sp', 'T.4.Sp.aCD3+CD40.18hr', 'Treg.4.FP3+.Nrplo.Co', 'Treg.4.25hi.Sp', 'T8.TN.P14.Sp', 'T8.IEL.LCMV.d7.Gut', 'T8.TE.LCMV.d7.Sp', 'T8.MP.LCMV.d7.Sp', 'T8.Tcm.LCMV.d180.Sp', 'T8.Tem.LCMV.d180.Sp', 'NKT.Sp', 'NKT.Sp.LPS.3hr', 'NKT.Sp.LPS.18hr', 'NKT.Sp.LPS.3d', 'Tgd.g2+d17.24a+.Th', 'Tgd.g2+d17.LN', 'Tgd.g2+d1.24a+.Th', 'Tgd.g2+d1.LN', 'Tgd.g1.1+d1.24a+.Th', 'Tgd.g1.1+d1.LN', 'Tgd.Sp', 'NK.27+11b-.BM', 'NK.27+11b+.BM', 'NK.27-11b+.BM', 'NK.27+11b-.Sp', 'NK.27+11b+.Sp', 'NK.27-11b+.Sp', 'ILC2.SI', 'ILC3.NKp46-CCR6-.SI', 'ILC3.NKp46+.SI', 'ILC3.CCR6+.SI', 'MPP3.48+.BM', 'GN.BM', 'GN.Sp', 'GN.Thio.PC', 'Mo.6C+II-.Bl', 'Mo.6C-II-.Bl', 'MF.pIC.Alv.Lu', 'MF.226+II+480lo.PC', 'MF.ICAM+480hi.PC', 'MF.RP.Sp', 'MF.Alv.Lu', 'MF.microglia.CNS', 'MF.PC', 'MF.Fem.PC', 'DC.4+.Sp', 'DC.8+.Sp', 'DC.pDC.Sp', 'FRC.SLN', 'IAP.SLN', 'BEC.SLN', 'LEC.SLN', 'Ep.MEChi.Th']\n"
     ]
    }
   ],
   "source": [
    "import pandas as pd\n",
    "\n",
    "tss = pd.read_csv(\"./data/mmc2.csv\")\n",
    "print(tss.columns.tolist())\n"
   ]
  },
  {
   "cell_type": "code",
   "execution_count": 27,
   "id": "4db763d8",
   "metadata": {},
   "outputs": [],
   "source": [
    "# Load TSS info from refFlat\n",
    "cols = [\"gene\", \"transcript\", \"chrom\", \"strand\", \"txStart\", \"txEnd\"]\n",
    "refFlat = pd.read_csv(\"./data/refFlat.txt\", sep=\"\\t\", header=None, usecols=range(6), names=cols)\n",
    "\n",
    "# Compute TSS (strand-aware)\n",
    "refFlat[\"tss\"] = refFlat.apply(lambda row: row[\"txStart\"] if row[\"strand\"] == \"+\" else row[\"txEnd\"], axis=1)\n",
    "\n",
    "# Create TSS DataFrame\n",
    "tss_df = refFlat[[\"gene\", \"chrom\", \"tss\"]].drop_duplicates()\n",
    "tss_df.columns = [\"Gene\", \"Chromosome\", \"Start\"]\n",
    "tss_df[\"Start\"] = tss_df[\"Start\"].astype(int)\n",
    "tss_df[\"End\"] = tss_df[\"Start\"] + 1"
   ]
  },
  {
   "cell_type": "code",
   "execution_count": 29,
   "id": "959ad5a1",
   "metadata": {},
   "outputs": [],
   "source": [
    "# Load TSS data\n",
    "cols = [\"gene\", \"transcript\", \"chrom\", \"strand\", \"txStart\", \"txEnd\"]\n",
    "refFlat = pd.read_csv(\"./data/refFlat.txt\", sep=\"\\t\", header=None, usecols=range(6), names=cols)\n",
    "\n",
    "# Compute TSS position\n",
    "refFlat[\"tss\"] = refFlat.apply(lambda row: row[\"txStart\"] if row[\"strand\"] == \"+\" else row[\"txEnd\"], axis=1)\n",
    "\n",
    "# Clean up and rename\n",
    "tss_df = refFlat[[\"gene\", \"chrom\", \"tss\"]].drop_duplicates()\n",
    "tss_df.columns = [\"Gene\", \"Chromosome\", \"Start\"]\n",
    "tss_df[\"Start\"] = tss_df[\"Start\"].astype(int)\n",
    "tss_df[\"End\"] = tss_df[\"Start\"] + 1  # Required for PyRanges\n"
   ]
  },
  {
   "cell_type": "code",
   "execution_count": 30,
   "id": "a29b222f",
   "metadata": {},
   "outputs": [],
   "source": [
    "tss = pr.PyRanges(tss_df)\n"
   ]
  },
  {
   "cell_type": "code",
   "execution_count": 31,
   "id": "7fa9230a",
   "metadata": {},
   "outputs": [],
   "source": [
    "import pyranges as pr\n",
    "\n",
    "# Convert both to PyRanges\n",
    "peaks = pr.PyRanges(atac[[\"Chromosome\", \"Start\", \"End\", \"mean_accessibility\"]])\n",
    "tss = pr.PyRanges(tss_df)\n",
    "\n",
    "# Find closest TSS\n",
    "nearest = peaks.nearest(tss, suffix=\"_tss\")\n",
    "annotated = nearest.df\n",
    "\n",
    "# Annotate distance and label as promoter/enhancer\n",
    "annotated[\"distance_to_tss\"] = abs(annotated[\"Start\"] - annotated[\"Start_tss\"])\n",
    "annotated[\"annotation\"] = annotated[\"distance_to_tss\"].apply(lambda d: \"promoter\" if d <= 1000 else \"enhancer\")\n"
   ]
  },
  {
   "cell_type": "code",
   "execution_count": 32,
   "id": "aa1e3b9d",
   "metadata": {},
   "outputs": [
    {
     "data": {
      "image/png": "[encoded data removed]",
      "text/plain": [
       "<Figure size 640x480 with 1 Axes>"
      ]
     },
     "metadata": {},
     "output_type": "display_data"
    }
   ],
   "source": [
    "import matplotlib.pyplot as plt\n",
    "\n",
    "annotated[\"annotation\"].value_counts().plot.pie(autopct=\"%1.1f%%\", startangle=90)\n",
    "plt.title(\"ILC/NK OCRs: Promoters vs Enhancers\")\n",
    "plt.ylabel(\"\")\n",
    "plt.show()\n"
   ]
  }
 ],
 "metadata": {
  "kernelspec": {
   "display_name": "data_analysis",
   "language": "python",
   "name": "python3"
  },
  "language_info": {
   "codemirror_mode": {
    "name": "ipython",
    "version": 3
   },
   "file_extension": ".py",
   "mimetype": "text/x-python",
   "name": "python",
   "nbconvert_exporter": "python",
   "pygments_lexer": "ipython3",
   "version": "3.9.7"
  }
 },
 "nbformat": 4,
 "nbformat_minor": 5
}
