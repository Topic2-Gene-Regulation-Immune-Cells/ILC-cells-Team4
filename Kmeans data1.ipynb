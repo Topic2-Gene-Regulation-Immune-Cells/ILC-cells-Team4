{
 "cells": [
  {
   "cell_type": "code",
   "execution_count": null,
   "id": "8288a759",
   "metadata": {},
   "outputs": [],
   "source": [
    "import pandas as pd\n",
    "from sklearn.preprocessing import StandardScaler\n",
    "from sklearn.decomposition import PCA\n",
    "from sklearn.manifold import TSNE\n",
    "import matplotlib.pyplot as plt\n",
    "import seaborn as sns\n",
    "\n",
    "\n",
    "cols = [\"ILC2.SI\", \"ILC3.NKp46-CCR6-.SI\", \"ILC3.NKp46+.SI\", \"ILC3.CCR6+.SI\",\n",
    "        \"NK.27+11b-.BM\", \"NK.27+11b+.BM\", \"NK.27-11b+.BM\",\n",
    "        \"NK.27+11b-.Sp\", \"NK.27+11b+.Sp\", \"NK.27-11b+.Sp\"]\n",
    "\n",
    "data = pd.read_csv(\"data/ImmGenATAC18_AllOCRsInfo.csv\", usecols=cols)\n",
    "data_sampled = data.sample(n=5000, random_state=42)\n",
    "#Daten standardisieren (z-Score pro OCR):\n",
    "scaler = StandardScaler()\n",
    "data_scaled = scaler.fit_transform(data_sampled)\n",
    "data_scaled\n",
    "#PCA\n",
    "data_scaled.shape\n",
    "pca = PCA(n_components=25)\n",
    "pca_scores = PCA().fit_transform(data_scaled)"
   ]
  }
 ],
 "metadata": {
  "language_info": {
   "name": "python"
  }
 },
 "nbformat": 4,
 "nbformat_minor": 5
}
