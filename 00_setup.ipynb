{
 "cells": [
  {
   "cell_type": "markdown",
   "id": "b1b48df6",
   "metadata": {},
   "source": [
    "# Setup\n",
    "Run this file to generate the folder structure of the project and download the necessary data files. If a download fails you can try to manually download the files and place them in the *data* folder.\n",
    "\n",
    "\n",
    "- [Processed ATAC-seq data and called peaks](https://sharehost.hms.harvard.edu/immgen/ImmGenATAC18_AllOCRsInfo.csv)\n",
    "- [Processed RNA-seq data](https://www.cell.com/cms/10.1016/j.cell.2018.12.036/attachment/4392da81-c56e-471a-b1df-0e72f03ecd77/mmc2.csv)\n",
    "- [Summary of Immune Cell Populations Profiled by ATAC-Seq and Their QC Matrices](https://www.cell.com/cms/10.1016/j.cell.2018.12.036/attachment/e5df7329-d77d-40b3-a03a-34bdbe4b402c/mmc1.xlsx)\n",
    "- [Transcript, Coding, and Exon Start and End Positions](http://hgdownload.cse.ucsc.edu/goldenPath/mm10/database/refFlat.txt.gz)\n",
    "- [Chromvar TF motif associations for all OCRs](https://sharehost.hms.harvard.edu/immgen/ImmGenATAC18_AllTFmotifsInOCRs.txt)"
   ]
  },
  {
   "cell_type": "code",
   "execution_count": 2,
   "id": "af8c34bf",
   "metadata": {},
   "outputs": [],
   "source": [
    "#Define the data directory and file paths\n",
    "DATA_DIR = \"data/\"\n",
    "\n",
    "import os.path\n",
    "import urllib.request \n",
    "\n",
    "#Create a directory for data if it doesn't exist\n",
    "os.makedirs(DATA_DIR, exist_ok=True)\n",
    "\n",
    "#Define file paths for the datasets\n",
    "ATAC_SEQ_PATH = os.path.join(DATA_DIR, \"ImmGenATAC18_AllOCRsInfo.csv\")\n",
    "RNA_SEQ_PATH = os.path.join(DATA_DIR, \"mmc2.csv\")\n",
    "MMC1_PATH = os.path.join(DATA_DIR, \"mmc1.xlsx\")\n",
    "REFFLAT_PATH = os.path.join(DATA_DIR, \"refFlat.txt.gz\")\n",
    "TFMOTIF_PATH = os.path.join(DATA_DIR, \"ImmGenATAC18_AllTFmotifsInOCRs.txt\")\n",
    "\n",
    "#Check if data files are already downloaded and if not, download them\n",
    "#ATAC-seq\n",
    "if not os.path.isfile(ATAC_SEQ_PATH):\n",
    "    urllib.request.urlretrieve(\"https://sharehost.hms.harvard.edu/immgen/ImmGenATAC18_AllOCRsInfo.csv\", ATAC_SEQ_PATH)\n",
    "\n",
    "#RNA-seq    \n",
    "if not os.path.isfile(RNA_SEQ_PATH):\n",
    "    urllib.request.urlretrieve(\"https://www.cell.com/cms/10.1016/j.cell.2018.12.036/attachment/4392da81-c56e-471a-b1df-0e72f03ecd77/mmc2.csv\", RNA_SEQ_PATH)\n",
    "\n",
    "#QC metrics\n",
    "if not os.path.isfile(MMC1_PATH):\n",
    "    urllib.request.urlretrieve(\"https://www.cell.com/cms/10.1016/j.cell.2018.12.036/attachment/e5df7329-d77d-40b3-a03a-34bdbe4b402c/mmc1.xlsx\", MMC1_PATH)\n",
    "\n",
    "#Gene references    \n",
    "if not os.path.isfile(REFFLAT_PATH):\n",
    "    urllib.request.urlretrieve(\"http://hgdownload.cse.ucsc.edu/goldenPath/mm10/database/refFlat.txt.gz\", REFFLAT_PATH)\n",
    "\n",
    "#TF motifs\n",
    "if not os.path.isfile(TFMOTIF_PATH):\n",
    "    urllib.request.urlretrieve(\"https://sharehost.hms.harvard.edu/immgen/ImmGenATAC18_AllTFmotifsInOCRs.txt\", TFMOTIF_PATH)"
   ]
  }
 ],
 "metadata": {
  "kernelspec": {
   "display_name": "data_analysis",
   "language": "python",
   "name": "python3"
  },
  "language_info": {
   "codemirror_mode": {
    "name": "ipython",
    "version": 3
   },
   "file_extension": ".py",
   "mimetype": "text/x-python",
   "name": "python",
   "nbconvert_exporter": "python",
   "pygments_lexer": "ipython3",
   "version": "3.13.3"
  }
 },
 "nbformat": 4,
 "nbformat_minor": 5
}
