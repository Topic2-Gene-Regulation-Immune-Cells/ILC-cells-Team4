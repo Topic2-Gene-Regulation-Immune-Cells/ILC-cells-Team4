{
 "cells": [
  {
   "cell_type": "code",
   "execution_count": 1,
   "id": "ff3740c0",
   "metadata": {},
   "outputs": [
    {
     "name": "stderr",
     "output_type": "stream",
     "text": [
      "Matplotlib is building the font cache; this may take a moment.\n"
     ]
    },
    {
     "name": "stdout",
     "output_type": "stream",
     "text": [
      "   ImmGenATAC1219.peakID chrom   Summit  mm10.60way.phastCons_scores  \\\n",
      "0  ImmGenATAC1219.peak_1  chr1  3020786                         0.00   \n",
      "1  ImmGenATAC1219.peak_2  chr1  3087226                         0.00   \n",
      "2  ImmGenATAC1219.peak_3  chr1  3120109                         0.07   \n",
      "3  ImmGenATAC1219.peak_4  chr1  3121485                         0.15   \n",
      "4  ImmGenATAC1219.peak_5  chr1  3372787                         0.03   \n",
      "\n",
      "   _-log10_bestPvalue  Included.in.systematic.analysis  TSS  \\\n",
      "0                0.56                              NaN  NaN   \n",
      "1                0.50                              NaN  NaN   \n",
      "2               10.80                              1.0  NaN   \n",
      "3                3.02                              1.0  NaN   \n",
      "4                1.31                              NaN  NaN   \n",
      "\n",
      "  genes.within.100Kb  LTHSC.34-.BM  LTHSC.34+.BM  ...  DC.4+.Sp  DC.8+.Sp  \\\n",
      "0                NaN          0.41          0.71  ...      0.10      0.10   \n",
      "1                NaN          0.41          1.64  ...      1.70      0.10   \n",
      "2                NaN          2.36          0.10  ...      0.87      0.54   \n",
      "3                NaN          0.41          0.10  ...      0.44      1.83   \n",
      "4                NaN          0.41          0.10  ...      0.44      0.10   \n",
      "\n",
      "   DC.pDC.Sp  DC.103+11b+.SI  DC.103+11b-.SI  FRC.SLN  IAP.SLN  BEC.SLN  \\\n",
      "0       3.19            1.37            0.52     1.27     0.10     0.57   \n",
      "1       1.41            0.47            0.11     0.92     0.98     2.16   \n",
      "2       2.72            0.95            0.11    63.38     8.92     1.33   \n",
      "3       0.66            0.11            0.92    13.50     0.98     1.28   \n",
      "4       0.66            1.79            0.51     0.92     0.75     1.33   \n",
      "\n",
      "   LEC.SLN  Ep.MEChi.Th  \n",
      "0     3.27         1.41  \n",
      "1     2.34         0.94  \n",
      "2     1.04         0.11  \n",
      "3     1.04         0.11  \n",
      "4     1.61         4.50  \n",
      "\n",
      "[5 rows x 98 columns]\n"
     ]
    },
    {
     "ename": "NameError",
     "evalue": "name 'ocr' is not defined",
     "output_type": "error",
     "traceback": [
      "\u001b[31m---------------------------------------------------------------------------\u001b[39m",
      "\u001b[31mNameError\u001b[39m                                 Traceback (most recent call last)",
      "\u001b[36mCell\u001b[39m\u001b[36m \u001b[39m\u001b[32mIn[1]\u001b[39m\u001b[32m, line 19\u001b[39m\n\u001b[32m     16\u001b[39m \u001b[38;5;66;03m# Schritt 4: OCR-Signalmatrix extrahieren\u001b[39;00m\n\u001b[32m     17\u001b[39m ocr_matrix = df[ilc_columns]\n\u001b[32m---> \u001b[39m\u001b[32m19\u001b[39m \u001b[43mocr\u001b[49m.matrix.show()\n",
      "\u001b[31mNameError\u001b[39m: name 'ocr' is not defined"
     ]
    }
   ],
   "source": [
    "\n",
    "import pandas as pd\n",
    "from sklearn.cluster import KMeans\n",
    "from sklearn.preprocessing import StandardScaler\n",
    "import matplotlib.pyplot as plt\n",
    "import seaborn as sns\n",
    "\n",
    "# Schritt 1: CSV-Daten laden\n",
    "df = pd.read_csv(\"data/ImmGenATAC18_AllOCRsInfo.csv\")\n",
    "\n",
    "# Schritt 2: Übersicht anschauen (optional)\n",
    "print(df.head())\n",
    "\n",
    "# Schritt 3: Zellnamen herausfiltern → Nur Spalten mit ILC\n",
    "ilc_columns = [col for col in df.columns if col.startswith(\"ILC\")]\n",
    "\n",
    "# Schritt 4: OCR-Signalmatrix extrahieren\n",
    "ocr_matrix = df[ilc_columns]\n",
    "\n",
    "ocr.matrix.show()\n"
   ]
  }
 ],
 "metadata": {
  "kernelspec": {
   "display_name": "data_analysis",
   "language": "python",
   "name": "python3"
  },
  "language_info": {
   "codemirror_mode": {
    "name": "ipython",
    "version": 3
   },
   "file_extension": ".py",
   "mimetype": "text/x-python",
   "name": "python",
   "nbconvert_exporter": "python",
   "pygments_lexer": "ipython3",
   "version": "3.13.3"
  }
 },
 "nbformat": 4,
 "nbformat_minor": 5
}
